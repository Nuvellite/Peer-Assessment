{
 "cells": [
  {
   "cell_type": "markdown",
   "id": "e6e417e9-484a-4d2c-aa4b-793e2b8a3bd6",
   "metadata": {},
   "source": [
    "Jupyter Self Assessment"
   ]
  },
  {
   "cell_type": "markdown",
   "id": "e11c6e12-f591-46f1-a712-0cc4b10b970a",
   "metadata": {},
   "source": [
    "Objectives:\n",
    "    To familiarize with the concept of markdown cells and code cells"
   ]
  },
  {
   "cell_type": "markdown",
   "id": "0914f7e6-97ae-4076-bbae-0d378163c68c",
   "metadata": {},
   "source": [
    "Introduction\n",
    "    Below are the works that I did for my peer grading assessment using jupyter notebook. The following work is completely done by me with no means of malpractices. I hope you like my work. "
   ]
  },
  {
   "cell_type": "markdown",
   "id": "4e484aa9-a0ac-4909-8894-e71167ed0e5d",
   "metadata": {},
   "source": [
    "Data Science Languages\n",
    "    1. Python\n",
    "    2. R\n",
    "    3. SQL \n",
    "    4. Scala\n",
    "    5. Java\n",
    "    6. C++\n",
    "    7. Julia"
   ]
  },
  {
   "cell_type": "markdown",
   "id": "ab096c60-a685-46e4-a234-5da04c2737b3",
   "metadata": {},
   "source": [
    "Data Science Libraries\n",
    "    1. Pandas\n",
    "    2. Numpy\n",
    "    3. Scipy\n",
    "    4. Matplotlib"
   ]
  },
  {
   "cell_type": "markdown",
   "id": "adc59c9d-c16c-4c3f-abd3-1e8c192c11d1",
   "metadata": {},
   "source": [
    "Tools used for Data Science\n",
    "    Data management tools: MySQL, PostgreeSQL, Apache Cassandra, MongoDB\n",
    "    Data integration and transformation tools: APche airflow, Apache kafka\n",
    "    Data visualization tools: PowerBI, Cognos analytics, Tableau\n",
    "    Code asset management tools: Git\n"
   ]
  },
  {
   "cell_type": "markdown",
   "id": "27431c9a-538d-4537-b0e8-bc3355e56b4c",
   "metadata": {},
   "source": [
    "Arithmetic expression: 3x + 4 \n",
    "    where, x is a variable, 3 i co-efficient, + is arithmetic operator, 4 is a constant "
   ]
  },
  {
   "cell_type": "code",
   "execution_count": 1,
   "id": "2e6d81a2-5cb4-4392-81c0-bc2f65f75a8f",
   "metadata": {},
   "outputs": [
    {
     "data": {
      "text/plain": [
       "4"
      ]
     },
     "execution_count": 1,
     "metadata": {},
     "output_type": "execute_result"
    }
   ],
   "source": [
    "#basic program to multiply numbers\n",
    "2*2"
   ]
  },
  {
   "cell_type": "code",
   "execution_count": 5,
   "id": "c75e383f-38ab-4d70-8dc9-f4105c571e89",
   "metadata": {},
   "outputs": [
    {
     "data": {
      "text/plain": [
       "4"
      ]
     },
     "execution_count": 5,
     "metadata": {},
     "output_type": "execute_result"
    }
   ],
   "source": [
    "#basic program to add numbers \n",
    "2+2"
   ]
  },
  {
   "cell_type": "markdown",
   "id": "41d302c8-6640-4443-91ad-c491a1206905",
   "metadata": {},
   "source": [
    "Author : Lohith"
   ]
  },
  {
   "cell_type": "code",
   "execution_count": null,
   "id": "f9f03283-e17b-478c-b73e-7bcabe90909e",
   "metadata": {},
   "outputs": [],
   "source": []
  }
 ],
 "metadata": {
  "kernelspec": {
   "display_name": "Python 3 (ipykernel)",
   "language": "python",
   "name": "python3"
  },
  "language_info": {
   "codemirror_mode": {
    "name": "ipython",
    "version": 3
   },
   "file_extension": ".py",
   "mimetype": "text/x-python",
   "name": "python",
   "nbconvert_exporter": "python",
   "pygments_lexer": "ipython3",
   "version": "3.11.7"
  }
 },
 "nbformat": 4,
 "nbformat_minor": 5
}
